{
 "cells": [
  {
   "cell_type": "markdown",
   "id": "111029dc",
   "metadata": {},
   "source": [
    "### 1. Write a Python program to convert kilometers to miles?"
   ]
  },
  {
   "cell_type": "code",
   "execution_count": 6,
   "id": "3c9b7678",
   "metadata": {},
   "outputs": [
    {
     "name": "stdout",
     "output_type": "stream",
     "text": [
      "Enter the distance in kilometer50\n",
      "50 Kilometer : 31.5 Mile\n"
     ]
    }
   ],
   "source": [
    "input1=int(input('Enter the distance in kilometer'))\n",
    "output=input1*0.63\n",
    "print(f\"{input1} Kilometer : {output} Mile\")"
   ]
  },
  {
   "cell_type": "markdown",
   "id": "74dabbd4",
   "metadata": {},
   "source": [
    "### 2. Write a Python program to convert Celsius to Fahrenheit?"
   ]
  },
  {
   "cell_type": "code",
   "execution_count": 8,
   "id": "515889a4",
   "metadata": {},
   "outputs": [
    {
     "name": "stdout",
     "output_type": "stream",
     "text": [
      "Enter temprature in degee celsius : 22\n",
      "22 Celsius : 71.6 Fahrenhite\n"
     ]
    }
   ],
   "source": [
    "input1=int(input('Enter temprature in degee celsius : '))\n",
    "output=(input1 * (9/5)) + 32\n",
    "print(f\"{input1} Celsius : {output} Fahrenhite\")"
   ]
  },
  {
   "cell_type": "markdown",
   "id": "c642a75c",
   "metadata": {},
   "source": [
    "### 3. Write a Python program to display calendar?"
   ]
  },
  {
   "cell_type": "code",
   "execution_count": 11,
   "id": "fa5cc925",
   "metadata": {},
   "outputs": [
    {
     "name": "stdout",
     "output_type": "stream",
     "text": [
      "Enter year: 2023\n",
      "Enter month: 3\n",
      "     March 2023\n",
      "Mo Tu We Th Fr Sa Su\n",
      "       1  2  3  4  5\n",
      " 6  7  8  9 10 11 12\n",
      "13 14 15 16 17 18 19\n",
      "20 21 22 23 24 25 26\n",
      "27 28 29 30 31\n",
      "\n"
     ]
    }
   ],
   "source": [
    "import calendar\n",
    "year = int(input(\"Enter year: \"))\n",
    "month = int(input(\"Enter month: \"))\n",
    "\n",
    "print(calendar.month(year,month))\n"
   ]
  },
  {
   "cell_type": "markdown",
   "id": "7e346f5b",
   "metadata": {},
   "source": [
    "### 4. Write a Python program to solve quadratic equation?"
   ]
  },
  {
   "cell_type": "code",
   "execution_count": 19,
   "id": "cc7b253e",
   "metadata": {},
   "outputs": [
    {
     "name": "stdout",
     "output_type": "stream",
     "text": [
      "Enter the coefficient of x^2 :1\n",
      "Enter the coefficient of x :2\n",
      "Enter the constant value :1\n",
      "The roots are -1.0,-1.0\n"
     ]
    }
   ],
   "source": [
    "import math\n",
    "a=float(input('Enter the coefficient of x^2 :'))\n",
    "b=float(input('Enter the coefficient of x :'))\n",
    "c=float(input('Enter the constant value :'))\n",
    "discriminant = b**2 - 4*a*c\n",
    "if discriminant < 0:\n",
    "        print(\"The equation has no real roots.\")\n",
    "else:\n",
    "    root1 = (-b + math.sqrt(discriminant))/(2*a)\n",
    "    root2 = (-b - math.sqrt(discriminant))/(2*a)\n",
    "    print(f\"The roots are {root1},{root2}\")"
   ]
  },
  {
   "cell_type": "markdown",
   "id": "6ff468b6",
   "metadata": {},
   "source": [
    "### 5. Write a Python program to swap two variables without temp variable?"
   ]
  },
  {
   "cell_type": "code",
   "execution_count": 21,
   "id": "1e27a508",
   "metadata": {},
   "outputs": [
    {
     "name": "stdout",
     "output_type": "stream",
     "text": [
      "Enter the first variable : 5\n",
      "Enter the Second variable : 10\n",
      "10.0 : 5.0\n",
      "5.0 : 10.0\n"
     ]
    }
   ],
   "source": [
    "input1=float(input(\"Enter the first variable : \"))\n",
    "input2=float(input(\"Enter the Second variable : \"))\n",
    "input1,input2=input2,input1\n",
    "\n",
    "print(f\"{input1} : {input2}\")\n",
    "print(f\"{input2} : {input1}\")"
   ]
  },
  {
   "cell_type": "code",
   "execution_count": null,
   "id": "57ad0011",
   "metadata": {},
   "outputs": [],
   "source": []
  }
 ],
 "metadata": {
  "kernelspec": {
   "display_name": "Python 3 (ipykernel)",
   "language": "python",
   "name": "python3"
  },
  "language_info": {
   "codemirror_mode": {
    "name": "ipython",
    "version": 3
   },
   "file_extension": ".py",
   "mimetype": "text/x-python",
   "name": "python",
   "nbconvert_exporter": "python",
   "pygments_lexer": "ipython3",
   "version": "3.9.7"
  }
 },
 "nbformat": 4,
 "nbformat_minor": 5
}
