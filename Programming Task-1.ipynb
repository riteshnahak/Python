{
 "cells": [
  {
   "cell_type": "markdown",
   "id": "c57e55fa",
   "metadata": {},
   "source": [
    "### 1. Write a Python program to print &quot;Hello Python&quot;?"
   ]
  },
  {
   "cell_type": "code",
   "execution_count": 1,
   "id": "8c79078a",
   "metadata": {},
   "outputs": [
    {
     "name": "stdout",
     "output_type": "stream",
     "text": [
      "Hello Python\n"
     ]
    }
   ],
   "source": [
    "print('Hello Python')"
   ]
  },
  {
   "cell_type": "markdown",
   "id": "02c6889d",
   "metadata": {},
   "source": [
    "### 2. Write a Python program to do arithmetical operations addition and division.?"
   ]
  },
  {
   "cell_type": "code",
   "execution_count": null,
   "id": "a5df85a0",
   "metadata": {},
   "outputs": [],
   "source": [
    "input1=int(input('Enter your first number : '))\n",
    "input2=int(input('Enter your second number : '))\n",
    "\n",
    "Add=input1+input2\n",
    "print(f'Addition of two number is : {Add}')\n",
    "\n",
    "while input2==0:\n",
    "    input2=int(input('Enter any number except zero : '))    \n",
    "else:\n",
    "    division=input1/input2\n",
    "print(f'Division of two number is : {division}')\n"
   ]
  },
  {
   "cell_type": "markdown",
   "id": "4eae4d1c",
   "metadata": {},
   "source": [
    "### 3. Write a Python program to find the area of a triangle?"
   ]
  },
  {
   "cell_type": "code",
   "execution_count": null,
   "id": "7cd91ae5",
   "metadata": {},
   "outputs": [],
   "source": [
    "input1=int(input('Enter the base length of the triangle : '))\n",
    "input2=int(input('Enter the height of the triangle : '))\n",
    "area=0.5*input1*input2\n",
    "print(f\"Are of the triangle is : {area}\")"
   ]
  },
  {
   "cell_type": "markdown",
   "id": "d6405e24",
   "metadata": {},
   "source": [
    "### 4. Write a Python program to swap two variables?"
   ]
  },
  {
   "cell_type": "code",
   "execution_count": null,
   "id": "8c6e13c7",
   "metadata": {},
   "outputs": [],
   "source": [
    "var1=input('Enter first variable : ')\n",
    "var2=input('Enter Second Variable : ')\n",
    "var3=var1\n",
    "var4=var2\n",
    "print(f'First Variable is : {var4}')\n",
    "print(f'Second Variable is : {var3}')"
   ]
  },
  {
   "cell_type": "markdown",
   "id": "e8a2f349",
   "metadata": {},
   "source": [
    "### 5. Write a Python program to generate a random number?"
   ]
  },
  {
   "cell_type": "code",
   "execution_count": null,
   "id": "59ff78e2",
   "metadata": {},
   "outputs": [],
   "source": [
    "import numpy as np\n",
    "np.random.randint(100)"
   ]
  }
 ],
 "metadata": {
  "kernelspec": {
   "display_name": "Python 3 (ipykernel)",
   "language": "python",
   "name": "python3"
  },
  "language_info": {
   "codemirror_mode": {
    "name": "ipython",
    "version": 3
   },
   "file_extension": ".py",
   "mimetype": "text/x-python",
   "name": "python",
   "nbconvert_exporter": "python",
   "pygments_lexer": "ipython3",
   "version": "3.9.7"
  }
 },
 "nbformat": 4,
 "nbformat_minor": 5
}
