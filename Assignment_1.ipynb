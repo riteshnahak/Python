{
  "nbformat": 4,
  "nbformat_minor": 0,
  "metadata": {
    "colab": {
      "provenance": []
    },
    "kernelspec": {
      "name": "python3",
      "display_name": "Python 3"
    },
    "language_info": {
      "name": "python"
    }
  },
  "cells": [
    {
      "cell_type": "markdown",
      "source": [
        "**1. In the below elements which of them are values or an expression? eg:- values can be\n",
        "integer or string and expressions will be mathematical operators.\n",
        "*\n",
        "&#39;hello&#39;\n",
        "-87.8\n",
        "-\n",
        "/\n",
        "+\n",
        "6**"
      ],
      "metadata": {
        "id": "xB5wn1H181IY"
      }
    },
    {
      "cell_type": "markdown",
      "source": [
        "**values :-**\n",
        "\n",
        "\"hello\" - String \n",
        "\n",
        "-87.8 - Float\n",
        "\n",
        "6 - Integer\n",
        "\n",
        "\n",
        "\n",
        "**Matematical Operator :-**\n",
        "\n",
        "+,-,*,/ = Addition,Subtraction,Mutiplication,Division\n",
        "\n",
        "\n"
      ],
      "metadata": {
        "id": "Kwcbe_Ni9Bgk"
      }
    },
    {
      "cell_type": "markdown",
      "source": [
        "**2. What is the difference between string and variable?**"
      ],
      "metadata": {
        "id": "jAXOCV_-_kQu"
      }
    },
    {
      "cell_type": "markdown",
      "source": [
        "**String**\n",
        "\n",
        "1-String is a datatype which hold text values.\n",
        "\n",
        "2- In python string should be enclosed between \"string \" or  'string'\n",
        "\n",
        "**Variable**\n",
        "\n",
        "1-  a variable is a named storage location that can hold a value, such as a number, a string, or an object. \n",
        "\n",
        "eg:- a=10 it means we are storing integer 10 in a variable called a.\n",
        "\n",
        "'a' may change..i.e. variable has tendency to vary"
      ],
      "metadata": {
        "id": "sP_Oy3KZ_3MG"
      }
    },
    {
      "cell_type": "markdown",
      "source": [
        "**3. Describe three different data types.**"
      ],
      "metadata": {
        "id": "Eh03utj8BRyT"
      }
    },
    {
      "cell_type": "markdown",
      "source": [
        "**Datatype**\n",
        "\n",
        " It determines the type of value that the variable or expression can hold, and the operations that can be performed on it.\n",
        "\n",
        " **Types**\n",
        "\n",
        "Integer: represents whole numbers, such as 1, 2, 3, etc.\n",
        "\n",
        "Float: represents decimal numbers, such as 3.14, 2.0, etc.\n",
        "\n",
        "Boolean: represents true or false values.\n",
        "\n",
        "String: represents text data, such as \"hello\", \"world\", etc.\n",
        "\n",
        "List: represents an ordered collection of values, such as [1, 2, 3], [\"apple\", \"banana\", \"cherry\"], etc.\n",
        "\n",
        "Dictionary: represents a collection of key-value pairs, such as {\"name\": \"John\", \"age\": 30}, {\"fruit\": \"apple\", \"color\": \"red\"}, etc."
      ],
      "metadata": {
        "id": "H9cXNeGCBpzS"
      }
    },
    {
      "cell_type": "markdown",
      "source": [
        "**4. What is an expression made up of? What do all expressions do?**"
      ],
      "metadata": {
        "id": "StIcFWMbCNwE"
      }
    },
    {
      "cell_type": "markdown",
      "source": [
        "an expression is a combination of values, variables, operators, and function calls that evaluates to a single value. Expressions can be simple or complex, and can involve arithmetic, logical, or relational operations.\n",
        "\n",
        "x = 5\n",
        "\n",
        "y = 3\n",
        "\n",
        "z = x + y  \n",
        "\n",
        "z is an expression that evaluates to 8"
      ],
      "metadata": {
        "id": "ajH2o6qJCUT8"
      }
    },
    {
      "cell_type": "markdown",
      "source": [
        "**6. After running the following code, what does the variable bacon contain?**\n",
        "\n",
        "**bacon = 22**\n",
        "\n",
        "**bacon + 1**"
      ],
      "metadata": {
        "id": "D_5a-LIDD2Ga"
      }
    },
    {
      "cell_type": "code",
      "source": [
        "bacon=22\n",
        "bacon+1\n",
        "print(f'bacon value is :{bacon}')\n",
        "\n",
        "## Unless u assign bacon+1 to bacon variable it wont do increment it will store as 22 only\n"
      ],
      "metadata": {
        "colab": {
          "base_uri": "https://localhost:8080/"
        },
        "id": "hrfutDPQDrUp",
        "outputId": "a198f50d-b4dc-4d78-b3af-65e9c57ffcdd"
      },
      "execution_count": 10,
      "outputs": [
        {
          "output_type": "stream",
          "name": "stdout",
          "text": [
            "bacon value is :22\n"
          ]
        }
      ]
    },
    {
      "cell_type": "markdown",
      "source": [
        "7.What should the values of the following two terms be?\n",
        "if spam=10\n",
        "\n",
        "&#39;spam&#39; + &#39;spamspam&#39;\n",
        "\n",
        "&#39;spam&#39; * 3"
      ],
      "metadata": {
        "id": "3ee0D7iZFSoR"
      }
    },
    {
      "cell_type": "code",
      "source": [
        "spam=10\n",
        "ans1='spam'+'spamspam'\n",
        "print(f'Value for spam + spamspam : {ans1}')\n",
        "ans2='spam'*3\n",
        "print(f'Value for spam*3 : {ans2}')"
      ],
      "metadata": {
        "colab": {
          "base_uri": "https://localhost:8080/"
        },
        "id": "JSmqAS2FDvDt",
        "outputId": "4302868d-97b1-48be-b558-f1b183167de5"
      },
      "execution_count": 12,
      "outputs": [
        {
          "output_type": "stream",
          "name": "stdout",
          "text": [
            "Value for spam + spamspam : spamspamspam\n",
            "Value for spam*3 : spamspamspam\n"
          ]
        }
      ]
    },
    {
      "cell_type": "markdown",
      "source": [
        "**8. Why is eggs a valid variable name while 100 is invalid?**"
      ],
      "metadata": {
        "id": "jSicKM8tGsNp"
      }
    },
    {
      "cell_type": "markdown",
      "source": [
        "In programming, variable names must follow certain rules and conventions. One important rule is that variable names cannot begin with a number or contain spaces. They can only contain letters, numbers, and underscores, and are case-sensitive."
      ],
      "metadata": {
        "id": "7n8cidQeGr41"
      }
    },
    {
      "cell_type": "markdown",
      "source": [
        "**9. What three functions can be used to get the integer, floating-point number, or string\n",
        "version of a value?**"
      ],
      "metadata": {
        "id": "XrfN5xqXG-5I"
      }
    },
    {
      "cell_type": "markdown",
      "source": [
        "integer :- int\n",
        "\n",
        "floating point :- float\n",
        "\n",
        "string :- str"
      ],
      "metadata": {
        "id": "at0KFfI7G-sQ"
      }
    },
    {
      "cell_type": "markdown",
      "source": [
        "**10. Why does this expression cause an error? How can you fix it?\n",
        "&#39;I have eaten &#39; + 99 + &#39; burritos.&#39;**"
      ],
      "metadata": {
        "id": "3HtyVUK3HWRc"
      }
    },
    {
      "cell_type": "code",
      "source": [
        "'I have eaten ' + '99' + ' burritos.'"
      ],
      "metadata": {
        "colab": {
          "base_uri": "https://localhost:8080/",
          "height": 36
        },
        "id": "P7h_fqIXDxUJ",
        "outputId": "89e50d88-ea63-49a6-91ec-2197f88f69bf"
      },
      "execution_count": 15,
      "outputs": [
        {
          "output_type": "execute_result",
          "data": {
            "text/plain": [
              "'I have eaten 99 burritos.'"
            ],
            "application/vnd.google.colaboratory.intrinsic+json": {
              "type": "string"
            }
          },
          "metadata": {},
          "execution_count": 15
        }
      ]
    }
  ]
}